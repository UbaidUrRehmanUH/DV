{
 "cells": [
  {
   "cell_type": "code",
   "execution_count": 1,
   "id": "c1579afb",
   "metadata": {},
   "outputs": [],
   "source": [
    "import pandas as pd\n",
    "import matplotlib.pyplot as plt\n",
    "import numpy as np"
   ]
  },
  {
   "cell_type": "code",
   "execution_count": 2,
   "id": "73ff37b6",
   "metadata": {},
   "outputs": [],
   "source": [
    "data2015 = pd.read_csv('/Users/usamaali/Pictures/2015.csv')"
   ]
  },
  {
   "cell_type": "code",
   "execution_count": 3,
   "id": "3e5875df",
   "metadata": {},
   "outputs": [],
   "source": [
    "data2016 = pd.read_csv('/Users/usamaali/Pictures/2016.csv')"
   ]
  },
  {
   "cell_type": "code",
   "execution_count": 4,
   "id": "3293de2d",
   "metadata": {},
   "outputs": [],
   "source": [
    "data2017 = pd.read_csv('/Users/usamaali/Pictures/2017.csv')"
   ]
  },
  {
   "cell_type": "code",
   "execution_count": 5,
   "id": "8b52e31b",
   "metadata": {},
   "outputs": [],
   "source": [
    "data2018 = pd.read_csv('/Users/usamaali/Pictures/2018.csv')"
   ]
  },
  {
   "cell_type": "code",
   "execution_count": 6,
   "id": "e74e8d47",
   "metadata": {},
   "outputs": [],
   "source": [
    "data2019 = pd.read_csv('/Users/usamaali/Pictures/2019.csv')"
   ]
  },
  {
   "cell_type": "code",
   "execution_count": 9,
   "id": "1bba6748",
   "metadata": {},
   "outputs": [
    {
     "data": {
      "text/plain": [
       "0     2019-01-01\n",
       "1     2019-01-01\n",
       "2     2019-01-01\n",
       "3     2019-01-01\n",
       "4     2019-01-01\n",
       "         ...    \n",
       "151   2019-01-01\n",
       "152   2019-01-01\n",
       "153   2019-01-01\n",
       "154   2019-01-01\n",
       "155   2019-01-01\n",
       "Name: year, Length: 156, dtype: datetime64[ns]"
      ]
     },
     "execution_count": 9,
     "metadata": {},
     "output_type": "execute_result"
    }
   ],
   "source": [
    "# Added a 'year' column into each dataset \n",
    "data2015['year'] = '2015'\n",
    "data2016['year'] = '2016'\n",
    "data2017['year'] = '2017'\n",
    "data2018['year'] = '2018'\n",
    "data2019['year'] = '2019'\n",
    "\n",
    "pd.to_datetime(data2015.year)\n",
    "pd.to_datetime(data2016.year)\n",
    "pd.to_datetime(data2017.year)\n",
    "pd.to_datetime(data2018.year)\n",
    "pd.to_datetime(data2019.year)"
   ]
  },
  {
   "cell_type": "code",
   "execution_count": 10,
   "id": "0ead008c",
   "metadata": {},
   "outputs": [],
   "source": [
    "# 2. Identified the columns that were relvant for my analysis, and present in all five datasets. Any column that was not relevant or not in all five datasets was dropped. \n",
    "columns_to_drop2015 = [\n",
    "    'Region', 'Standard Error', 'Dystopia Residual'\n",
    "]\n",
    "\n",
    "columns_to_drop2016 = [\n",
    "    'Region', 'Lower Confidence Interval', 'Upper Confidence Interval', 'Dystopia Residual'\n",
    "]\n",
    "\n",
    "columns_to_drop2017 = [\n",
    "    'Whisker.high', 'Whisker.low', 'Dystopia.Residual'\n",
    "]\n",
    "\n",
    "#no cols to drop for 2018 and 2019\n",
    "\n",
    "data2015.drop(columns_to_drop2015, axis='columns', inplace=True)\n",
    "data2016.drop(columns_to_drop2016, axis='columns', inplace=True)\n",
    "data2017.drop(columns_to_drop2017, axis='columns', inplace=True)"
   ]
  },
  {
   "cell_type": "code",
   "execution_count": 11,
   "id": "0aff82bd",
   "metadata": {},
   "outputs": [],
   "source": [
    "#3. Reorded the columns in all five data sets to ensure all columns were in the same order\n",
    "data2017 = data2017.iloc[:, [0,1,2,3,4,5,6,8,7,9]]\n",
    "data2018 = data2018.iloc[:, [1,0,2,3,4,5,6,8,7,9]]\n",
    "data2019 = data2019.iloc[:, [1,0,2,3,4,5,6,8,7,9]]"
   ]
  },
  {
   "cell_type": "code",
   "execution_count": 12,
   "id": "72095c74",
   "metadata": {},
   "outputs": [],
   "source": [
    "#4. Standardized the naming conventions of the coumns across all five data sets\n",
    "data2015 = data2015.rename(columns={'Country': 'country', 'Happiness Rank': 'happiness_rank', 'Happiness Score': 'happiness_score', 'Economy (GDP per Capita)': 'GDP_per_capita', \\\n",
    "                                    'Family': 'social_support', 'Health (Life Expectancy)' : 'healthy_life_expectancy', 'Freedom': 'freedom', \\\n",
    "                                    'Trust (Government Corruption)': 'absence_of_corruption', 'Generosity': 'generosity'})\n",
    "\n",
    "data2016 = data2016.rename(columns={'Country': 'country', 'Happiness Rank': 'happiness_rank', 'Happiness Score': 'happiness_score', 'Economy (GDP per Capita)': 'GDP_per_capita', \\\n",
    "                                    'Family': 'social_support', 'Health (Life Expectancy)' : 'healthy_life_expectancy', 'Freedom': 'freedom', \\\n",
    "                                    'Trust (Government Corruption)': 'absence_of_corruption', 'Generosity': 'generosity'})\n",
    "\n",
    "data2017 = data2017.rename(columns={'Country': 'country', 'Happiness.Rank': 'happiness_rank', 'Happiness.Score': 'happiness_score', 'Economy..GDP.per.Capita.': 'GDP_per_capita', \\\n",
    "                                    'Family': 'social_support', 'Health..Life.Expectancy.' : 'healthy_life_expectancy', 'Freedom': 'freedom', \\\n",
    "                                    'Trust..Government.Corruption.': 'absence_of_corruption', 'Generosity': 'generosity'})\n",
    "\n",
    "data2018 = data2018.rename(columns={'Country or region': 'country', 'Overall rank': 'happiness_rank', 'Score': 'happiness_score', 'GDP per capita': 'GDP_per_capita', \\\n",
    "                                    'Social support': 'social_support', 'Healthy life expectancy' : 'healthy_life_expectancy', 'Freedom to make life choices': 'freedom', \\\n",
    "                                    'Perceptions of corruption': 'absence_of_corruption', 'Generosity': 'generosity'})\n",
    "\n",
    "data2019 = data2019.rename(columns={'Country or region': 'country', 'Overall rank': 'happiness_rank', 'Score': 'happiness_score', 'GDP per capita': 'GDP_per_capita', \\\n",
    "                                    'Social support': 'social_support', 'Healthy life expectancy' : 'healthy_life_expectancy', 'Freedom to make life choices': 'freedom', \\\n",
    "                                    'Perceptions of corruption': 'absence_of_corruption', 'Generosity': 'generosity'})"
   ]
  },
  {
   "cell_type": "code",
   "execution_count": 13,
   "id": "f0857284",
   "metadata": {},
   "outputs": [
    {
     "data": {
      "text/html": [
       "<div>\n",
       "<style scoped>\n",
       "    .dataframe tbody tr th:only-of-type {\n",
       "        vertical-align: middle;\n",
       "    }\n",
       "\n",
       "    .dataframe tbody tr th {\n",
       "        vertical-align: top;\n",
       "    }\n",
       "\n",
       "    .dataframe thead th {\n",
       "        text-align: right;\n",
       "    }\n",
       "</style>\n",
       "<table border=\"1\" class=\"dataframe\">\n",
       "  <thead>\n",
       "    <tr style=\"text-align: right;\">\n",
       "      <th></th>\n",
       "      <th>country</th>\n",
       "      <th>happiness_rank</th>\n",
       "      <th>happiness_score</th>\n",
       "      <th>GDP_per_capita</th>\n",
       "      <th>social_support</th>\n",
       "      <th>healthy_life_expectancy</th>\n",
       "      <th>freedom</th>\n",
       "      <th>absence_of_corruption</th>\n",
       "      <th>generosity</th>\n",
       "      <th>year</th>\n",
       "    </tr>\n",
       "  </thead>\n",
       "  <tbody>\n",
       "    <tr>\n",
       "      <th>0</th>\n",
       "      <td>Switzerland</td>\n",
       "      <td>1</td>\n",
       "      <td>7.587</td>\n",
       "      <td>1.39651</td>\n",
       "      <td>1.34951</td>\n",
       "      <td>0.94143</td>\n",
       "      <td>0.66557</td>\n",
       "      <td>0.41978</td>\n",
       "      <td>0.29678</td>\n",
       "      <td>2015</td>\n",
       "    </tr>\n",
       "    <tr>\n",
       "      <th>1</th>\n",
       "      <td>Iceland</td>\n",
       "      <td>2</td>\n",
       "      <td>7.561</td>\n",
       "      <td>1.30232</td>\n",
       "      <td>1.40223</td>\n",
       "      <td>0.94784</td>\n",
       "      <td>0.62877</td>\n",
       "      <td>0.14145</td>\n",
       "      <td>0.43630</td>\n",
       "      <td>2015</td>\n",
       "    </tr>\n",
       "    <tr>\n",
       "      <th>2</th>\n",
       "      <td>Denmark</td>\n",
       "      <td>3</td>\n",
       "      <td>7.527</td>\n",
       "      <td>1.32548</td>\n",
       "      <td>1.36058</td>\n",
       "      <td>0.87464</td>\n",
       "      <td>0.64938</td>\n",
       "      <td>0.48357</td>\n",
       "      <td>0.34139</td>\n",
       "      <td>2015</td>\n",
       "    </tr>\n",
       "    <tr>\n",
       "      <th>3</th>\n",
       "      <td>Norway</td>\n",
       "      <td>4</td>\n",
       "      <td>7.522</td>\n",
       "      <td>1.45900</td>\n",
       "      <td>1.33095</td>\n",
       "      <td>0.88521</td>\n",
       "      <td>0.66973</td>\n",
       "      <td>0.36503</td>\n",
       "      <td>0.34699</td>\n",
       "      <td>2015</td>\n",
       "    </tr>\n",
       "    <tr>\n",
       "      <th>4</th>\n",
       "      <td>Canada</td>\n",
       "      <td>5</td>\n",
       "      <td>7.427</td>\n",
       "      <td>1.32629</td>\n",
       "      <td>1.32261</td>\n",
       "      <td>0.90563</td>\n",
       "      <td>0.63297</td>\n",
       "      <td>0.32957</td>\n",
       "      <td>0.45811</td>\n",
       "      <td>2015</td>\n",
       "    </tr>\n",
       "  </tbody>\n",
       "</table>\n",
       "</div>"
      ],
      "text/plain": [
       "       country  happiness_rank  happiness_score  GDP_per_capita  \\\n",
       "0  Switzerland               1            7.587         1.39651   \n",
       "1      Iceland               2            7.561         1.30232   \n",
       "2      Denmark               3            7.527         1.32548   \n",
       "3       Norway               4            7.522         1.45900   \n",
       "4       Canada               5            7.427         1.32629   \n",
       "\n",
       "   social_support  healthy_life_expectancy  freedom  absence_of_corruption  \\\n",
       "0         1.34951                  0.94143  0.66557                0.41978   \n",
       "1         1.40223                  0.94784  0.62877                0.14145   \n",
       "2         1.36058                  0.87464  0.64938                0.48357   \n",
       "3         1.33095                  0.88521  0.66973                0.36503   \n",
       "4         1.32261                  0.90563  0.63297                0.32957   \n",
       "\n",
       "   generosity  year  \n",
       "0     0.29678  2015  \n",
       "1     0.43630  2015  \n",
       "2     0.34139  2015  \n",
       "3     0.34699  2015  \n",
       "4     0.45811  2015  "
      ]
     },
     "execution_count": 13,
     "metadata": {},
     "output_type": "execute_result"
    }
   ],
   "source": [
    "#5. Combined the five datasets into one\n",
    "combined_data = pd.concat([data2015, data2016, data2017, data2018, data2019])\n",
    "combined_data.head()"
   ]
  },
  {
   "cell_type": "code",
   "execution_count": 14,
   "id": "7decf018",
   "metadata": {},
   "outputs": [
    {
     "name": "stdout",
     "output_type": "stream",
     "text": [
      "combined_data: country                    0\n",
      "happiness_rank             0\n",
      "happiness_score            0\n",
      "GDP_per_capita             0\n",
      "social_support             0\n",
      "healthy_life_expectancy    0\n",
      "freedom                    0\n",
      "absence_of_corruption      1\n",
      "generosity                 0\n",
      "year                       0\n",
      "dtype: int64\n"
     ]
    }
   ],
   "source": [
    "#Check for null values, determined that there is one null in the perceptions_of_corruption column\n",
    "print('combined_data:', combined_data.isnull().sum())"
   ]
  },
  {
   "cell_type": "code",
   "execution_count": 15,
   "id": "f41a3b90",
   "metadata": {},
   "outputs": [
    {
     "data": {
      "text/html": [
       "<div>\n",
       "<style scoped>\n",
       "    .dataframe tbody tr th:only-of-type {\n",
       "        vertical-align: middle;\n",
       "    }\n",
       "\n",
       "    .dataframe tbody tr th {\n",
       "        vertical-align: top;\n",
       "    }\n",
       "\n",
       "    .dataframe thead th {\n",
       "        text-align: right;\n",
       "    }\n",
       "</style>\n",
       "<table border=\"1\" class=\"dataframe\">\n",
       "  <thead>\n",
       "    <tr style=\"text-align: right;\">\n",
       "      <th></th>\n",
       "      <th>country</th>\n",
       "      <th>happiness_rank</th>\n",
       "      <th>happiness_score</th>\n",
       "      <th>GDP_per_capita</th>\n",
       "      <th>social_support</th>\n",
       "      <th>healthy_life_expectancy</th>\n",
       "      <th>freedom</th>\n",
       "      <th>absence_of_corruption</th>\n",
       "      <th>generosity</th>\n",
       "      <th>year</th>\n",
       "    </tr>\n",
       "  </thead>\n",
       "  <tbody>\n",
       "    <tr>\n",
       "      <th>19</th>\n",
       "      <td>United Arab Emirates</td>\n",
       "      <td>20</td>\n",
       "      <td>6.774</td>\n",
       "      <td>2.096</td>\n",
       "      <td>0.776</td>\n",
       "      <td>0.67</td>\n",
       "      <td>0.284</td>\n",
       "      <td>NaN</td>\n",
       "      <td>0.186</td>\n",
       "      <td>2018</td>\n",
       "    </tr>\n",
       "  </tbody>\n",
       "</table>\n",
       "</div>"
      ],
      "text/plain": [
       "                 country  happiness_rank  happiness_score  GDP_per_capita  \\\n",
       "19  United Arab Emirates              20            6.774           2.096   \n",
       "\n",
       "    social_support  healthy_life_expectancy  freedom  absence_of_corruption  \\\n",
       "19           0.776                     0.67    0.284                    NaN   \n",
       "\n",
       "    generosity  year  \n",
       "19       0.186  2018  "
      ]
     },
     "execution_count": 15,
     "metadata": {},
     "output_type": "execute_result"
    }
   ],
   "source": [
    "#Inspect the row with the null value. Determined that it is for UAE, year 2018\n",
    "combined_data[combined_data['absence_of_corruption'].isnull()]"
   ]
  },
  {
   "cell_type": "code",
   "execution_count": 16,
   "id": "2395d0ad",
   "metadata": {},
   "outputs": [
    {
     "data": {
      "text/html": [
       "<div>\n",
       "<style scoped>\n",
       "    .dataframe tbody tr th:only-of-type {\n",
       "        vertical-align: middle;\n",
       "    }\n",
       "\n",
       "    .dataframe tbody tr th {\n",
       "        vertical-align: top;\n",
       "    }\n",
       "\n",
       "    .dataframe thead th {\n",
       "        text-align: right;\n",
       "    }\n",
       "</style>\n",
       "<table border=\"1\" class=\"dataframe\">\n",
       "  <thead>\n",
       "    <tr style=\"text-align: right;\">\n",
       "      <th></th>\n",
       "      <th>country</th>\n",
       "      <th>happiness_rank</th>\n",
       "      <th>happiness_score</th>\n",
       "      <th>GDP_per_capita</th>\n",
       "      <th>social_support</th>\n",
       "      <th>healthy_life_expectancy</th>\n",
       "      <th>freedom</th>\n",
       "      <th>absence_of_corruption</th>\n",
       "      <th>generosity</th>\n",
       "      <th>year</th>\n",
       "    </tr>\n",
       "  </thead>\n",
       "  <tbody>\n",
       "    <tr>\n",
       "      <th>19</th>\n",
       "      <td>United Arab Emirates</td>\n",
       "      <td>20</td>\n",
       "      <td>6.901</td>\n",
       "      <td>1.427270</td>\n",
       "      <td>1.12575</td>\n",
       "      <td>0.809250</td>\n",
       "      <td>0.641570</td>\n",
       "      <td>0.385830</td>\n",
       "      <td>0.264280</td>\n",
       "      <td>2015</td>\n",
       "    </tr>\n",
       "    <tr>\n",
       "      <th>27</th>\n",
       "      <td>United Arab Emirates</td>\n",
       "      <td>28</td>\n",
       "      <td>6.573</td>\n",
       "      <td>1.573520</td>\n",
       "      <td>0.87114</td>\n",
       "      <td>0.729930</td>\n",
       "      <td>0.562150</td>\n",
       "      <td>0.355610</td>\n",
       "      <td>0.265910</td>\n",
       "      <td>2016</td>\n",
       "    </tr>\n",
       "    <tr>\n",
       "      <th>20</th>\n",
       "      <td>United Arab Emirates</td>\n",
       "      <td>21</td>\n",
       "      <td>6.648</td>\n",
       "      <td>1.626343</td>\n",
       "      <td>1.26641</td>\n",
       "      <td>0.726798</td>\n",
       "      <td>0.608345</td>\n",
       "      <td>0.324490</td>\n",
       "      <td>0.360942</td>\n",
       "      <td>2017</td>\n",
       "    </tr>\n",
       "    <tr>\n",
       "      <th>19</th>\n",
       "      <td>United Arab Emirates</td>\n",
       "      <td>20</td>\n",
       "      <td>6.774</td>\n",
       "      <td>2.096000</td>\n",
       "      <td>0.77600</td>\n",
       "      <td>0.670000</td>\n",
       "      <td>0.284000</td>\n",
       "      <td>0.311982</td>\n",
       "      <td>0.186000</td>\n",
       "      <td>2018</td>\n",
       "    </tr>\n",
       "    <tr>\n",
       "      <th>20</th>\n",
       "      <td>United Arab Emirates</td>\n",
       "      <td>21</td>\n",
       "      <td>6.825</td>\n",
       "      <td>1.503000</td>\n",
       "      <td>1.31000</td>\n",
       "      <td>0.825000</td>\n",
       "      <td>0.598000</td>\n",
       "      <td>0.182000</td>\n",
       "      <td>0.262000</td>\n",
       "      <td>2019</td>\n",
       "    </tr>\n",
       "  </tbody>\n",
       "</table>\n",
       "</div>"
      ],
      "text/plain": [
       "                 country  happiness_rank  happiness_score  GDP_per_capita  \\\n",
       "19  United Arab Emirates              20            6.901        1.427270   \n",
       "27  United Arab Emirates              28            6.573        1.573520   \n",
       "20  United Arab Emirates              21            6.648        1.626343   \n",
       "19  United Arab Emirates              20            6.774        2.096000   \n",
       "20  United Arab Emirates              21            6.825        1.503000   \n",
       "\n",
       "    social_support  healthy_life_expectancy   freedom  absence_of_corruption  \\\n",
       "19         1.12575                 0.809250  0.641570               0.385830   \n",
       "27         0.87114                 0.729930  0.562150               0.355610   \n",
       "20         1.26641                 0.726798  0.608345               0.324490   \n",
       "19         0.77600                 0.670000  0.284000               0.311982   \n",
       "20         1.31000                 0.825000  0.598000               0.182000   \n",
       "\n",
       "    generosity  year  \n",
       "19    0.264280  2015  \n",
       "27    0.265910  2016  \n",
       "20    0.360942  2017  \n",
       "19    0.186000  2018  \n",
       "20    0.262000  2019  "
      ]
     },
     "execution_count": 16,
     "metadata": {},
     "output_type": "execute_result"
    }
   ],
   "source": [
    "#Find the average perceptions_of_corruption value for the UAE\n",
    "UAE_corruption = combined_data[combined_data['country'] == 'United Arab Emirates']\n",
    "UAE_corruption_avg = UAE_corruption['absence_of_corruption'].mean()\n",
    "\n",
    "#Fill in the null with the avergage perceptions_of_corruption value for the UAE\n",
    "combined_data.fillna({'absence_of_corruption': UAE_corruption_avg}, inplace=True)\n",
    "\n",
    "#Check \n",
    "combined_data[combined_data['country'] == 'United Arab Emirates']"
   ]
  },
  {
   "cell_type": "code",
   "execution_count": 17,
   "id": "aa51ffd0",
   "metadata": {},
   "outputs": [
    {
     "name": "stdout",
     "output_type": "stream",
     "text": [
      "      happiness_score\n",
      "year                 \n",
      "2015         5.375734\n",
      "2016         5.382185\n",
      "2017         5.354019\n",
      "2018         5.375917\n",
      "2019         5.407096\n"
     ]
    }
   ],
   "source": [
    "#Find the average happiness scores of all countries grouped by year\n",
    "happiness_score_by_year = combined_data.groupby(['year'])\n",
    "happiness_score_by_year = happiness_score_by_year.mean()\n",
    "happiness_score_by_year = pd.DataFrame(happiness_score_by_year,columns=['happiness_score'])\n",
    "print (happiness_score_by_year)"
   ]
  },
  {
   "cell_type": "code",
   "execution_count": 18,
   "id": "7a88c956",
   "metadata": {},
   "outputs": [
    {
     "data": {
      "image/png": "[encoded data removed]",
      "text/plain": [
       "<Figure size 640x480 with 1 Axes>"
      ]
     },
     "metadata": {},
     "output_type": "display_data"
    }
   ],
   "source": [
    "#Plot the happiness scores of all countries grouped by year\n",
    "happiness_score_by_year.plot();"
   ]
  },
  {
   "cell_type": "code",
   "execution_count": 23,
   "id": "0a045ea7",
   "metadata": {},
   "outputs": [
    {
     "data": {
      "image/png": "[encoded data removed]",
      "text/plain": [
       "<Figure size 1500x700 with 1 Axes>"
      ]
     },
     "metadata": {},
     "output_type": "display_data"
    }
   ],
   "source": [
    "#Identify 2015 happist countries\n",
    "happiest_countries_2015 = combined_data[(combined_data.happiness_rank < 6) & (combined_data.year == '2015')]\n",
    "#Filter combined data for 5 happiest countires from 2015\n",
    "happiest_countries = combined_data[(combined_data.country == 'Switzerland') | (combined_data.country == 'Iceland') | (combined_data.country == 'Denmark') | (combined_data.country == 'Norway') | (combined_data.country == 'Canada')]\n",
    "\n",
    "#Plot happiness scores\n",
    "fig, ax = plt.subplots(figsize=(15,7))\n",
    " \n",
    "happiest_countries.groupby(['year','country']).mean()['happiness_score'].unstack().plot(ax=ax)\n",
    "plt.xlabel('Year')\n",
    "plt.ylabel('Rank')\n",
    "plt.title('Happiness Index')\n",
    "plt.yticks(np.arange(7.30, 7.65, 0.05));"
   ]
  },
  {
   "cell_type": "code",
   "execution_count": null,
   "id": "666f116d",
   "metadata": {},
   "outputs": [],
   "source": []
  }
 ],
 "metadata": {
  "kernelspec": {
   "display_name": "Python 3 (ipykernel)",
   "language": "python",
   "name": "python3"
  },
  "language_info": {
   "codemirror_mode": {
    "name": "ipython",
    "version": 3
   },
   "file_extension": ".py",
   "mimetype": "text/x-python",
   "name": "python",
   "nbconvert_exporter": "python",
   "pygments_lexer": "ipython3",
   "version": "3.9.13"
  }
 },
 "nbformat": 4,
 "nbformat_minor": 5
}
